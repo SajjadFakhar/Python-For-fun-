{
  "nbformat": 4,
  "nbformat_minor": 0,
  "metadata": {
    "colab": {
      "provenance": [],
      "authorship_tag": "ABX9TyOQqi1Z79h+a+LAY47e+ftb",
      "include_colab_link": true
    },
    "kernelspec": {
      "name": "python3",
      "display_name": "Python 3"
    },
    "language_info": {
      "name": "python"
    }
  },
  "cells": [
    {
      "cell_type": "markdown",
      "metadata": {
        "id": "view-in-github",
        "colab_type": "text"
      },
      "source": [
        "<a href=\"https://colab.research.google.com/github/SajjadFakhar/Python-For-fun-/blob/Colab-Codes/Intro_to_Python.ipynb\" target=\"_parent\"><img src=\"https://colab.research.google.com/assets/colab-badge.svg\" alt=\"Open In Colab\"/></a>"
      ]
    },
    {
      "cell_type": "markdown",
      "source": [
        "**`Here is the stat of this course for Python`**"
      ],
      "metadata": {
        "id": "4_6wfbu78Okk"
      }
    },
    {
      "cell_type": "code",
      "execution_count": null,
      "metadata": {
        "id": "s3aCqPOX1Tx2"
      },
      "outputs": [],
      "source": [
        "a = 7\n",
        "b = 7.0\n",
        "y = 'hehjerfer'\n"
      ]
    },
    {
      "cell_type": "markdown",
      "source": [
        "***Type is gonna show the type of the varialbe that we have***"
      ],
      "metadata": {
        "id": "J-aApt4z8jNX"
      }
    },
    {
      "cell_type": "code",
      "source": [
        "%whos"
      ],
      "metadata": {
        "colab": {
          "base_uri": "https://localhost:8080/"
        },
        "id": "BgVvv7q28tE5",
        "outputId": "4fabe469-b948-4dad-f65a-a65ec241ece1"
      },
      "execution_count": null,
      "outputs": [
        {
          "output_type": "stream",
          "name": "stdout",
          "text": [
            "Variable   Type     Data/Info\n",
            "-----------------------------\n",
            "a          int      7\n",
            "b          float    7.0\n",
            "y          str      hehjerfer\n"
          ]
        }
      ]
    },
    {
      "cell_type": "markdown",
      "source": [
        "***Multiple assignments***"
      ],
      "metadata": {
        "id": "j6HeaTrF5fZH"
      }
    },
    {
      "cell_type": "code",
      "source": [
        "var1,varb = 3 , 5\n",
        "print(var1,varb)\n",
        "\n",
        "# Exersize\n",
        "# overwriting the variable\n",
        "# using the same variable type\n",
        "# using the different variable type\n",
        "\n",
        "var1,varb = 'test' ,65\n",
        "print(var1,varb)\n"
      ],
      "metadata": {
        "colab": {
          "base_uri": "https://localhost:8080/"
        },
        "id": "4OhIv7rs5Jh1",
        "outputId": "4bf17b78-7205-426f-bb28-69b29d65daa1"
      },
      "execution_count": null,
      "outputs": [
        {
          "output_type": "stream",
          "name": "stdout",
          "text": [
            "3 5\n",
            "test 65\n"
          ]
        }
      ]
    },
    {
      "cell_type": "markdown",
      "source": [
        "***Math and Printing***"
      ],
      "metadata": {
        "id": "5d8e5zf-63TW"
      }
    },
    {
      "cell_type": "code",
      "source": [
        "4+3.033\n",
        "\n",
        "C = 4+3.03\n",
        "print(C)"
      ],
      "metadata": {
        "colab": {
          "base_uri": "https://localhost:8080/"
        },
        "id": "cVqtAEGN67wq",
        "outputId": "c9ecc0e5-794b-4a46-ed39-24ae2c40ad18"
      },
      "execution_count": null,
      "outputs": [
        {
          "output_type": "stream",
          "name": "stdout",
          "text": [
            "7.029999999999999\n"
          ]
        }
      ]
    },
    {
      "cell_type": "code",
      "source": [
        "d = 4/3\n",
        "# if we face a code that it is gonna be too long we can use the back slash \\ to go to another line\n",
        "c = 4 \\\n",
        "+ 3\n",
        "print(c)\n",
        "print(d)"
      ],
      "metadata": {
        "colab": {
          "base_uri": "https://localhost:8080/"
        },
        "id": "Z-tKl8TG7y0p",
        "outputId": "a0cab49f-8f42-4806-fc6d-a5f8056c9349"
      },
      "execution_count": null,
      "outputs": [
        {
          "output_type": "stream",
          "name": "stdout",
          "text": [
            "7\n",
            "1.3333333333333333\n"
          ]
        }
      ]
    },
    {
      "cell_type": "markdown",
      "source": [
        "***Powers***"
      ],
      "metadata": {
        "id": "4wr7Vu168feO"
      }
    },
    {
      "cell_type": "code",
      "source": [
        "3 ** 2\n",
        "9 ** (1/2)  # square root"
      ],
      "metadata": {
        "colab": {
          "base_uri": "https://localhost:8080/"
        },
        "id": "Y8Gq25Ra8dRg",
        "outputId": "e5f874ec-4511-4f3f-e773-c7e0cc105ad2"
      },
      "execution_count": null,
      "outputs": [
        {
          "output_type": "execute_result",
          "data": {
            "text/plain": [
              "3.0"
            ]
          },
          "metadata": {},
          "execution_count": 16
        }
      ]
    },
    {
      "cell_type": "markdown",
      "source": [
        "Over loading"
      ],
      "metadata": {
        "id": "q3hOKEB183AO"
      }
    },
    {
      "cell_type": "code",
      "source": [
        "from re import X\n",
        "firstname = 'Yousef'\n",
        "secondname = 'alipour'\n",
        "print(firstname + secondname)\n",
        "print(firstname +' '+ secondname)\n",
        "mul = firstname * 3 # it should be an integer but not a float\n",
        "print(mul)\n",
        "\n",
        "# Printing the Mathematical Operation\n",
        "# print('7+3 = 11')\n",
        "print('7+3 = ' + str(7+3))\n",
        "x= 7\n",
        "y = 3\n",
        "print(str(x) +  '+' +str(y)  +'=' + str(x+y) )"
      ],
      "metadata": {
        "colab": {
          "base_uri": "https://localhost:8080/"
        },
        "id": "kbDzHr6d85YY",
        "outputId": "bd5993b6-633a-4ef3-cc35-b812a26dc8d9"
      },
      "execution_count": null,
      "outputs": [
        {
          "output_type": "stream",
          "name": "stdout",
          "text": [
            "Yousefalipour\n",
            "Yousef alipour\n",
            "YousefYousefYousef\n",
            "7+3 = 10\n",
            "7+3=10\n"
          ]
        }
      ]
    },
    {
      "cell_type": "markdown",
      "source": [
        "***Input***"
      ],
      "metadata": {
        "id": "S0XfDCfr_lyw"
      }
    },
    {
      "cell_type": "code",
      "source": [
        "ans = float(input('Enter a number: '))\n",
        "print(type(ans))\n",
        "\n",
        "# INPUT Exersize\n",
        "# Pythagoren theorem\n",
        "# Get to iunputs from the user and print the final value\n",
        "side_1 = float(input('Enter the first side: '))\n",
        "side_2 = float(input('Enter the second side: '))\n",
        "hypotenuse = (side_1 ** 2 + side_2 ** 2) ** (1/2)\n",
        "print('')\n",
        "print('The hypotenuse is: ' + str(hypotenuse))"
      ],
      "metadata": {
        "colab": {
          "base_uri": "https://localhost:8080/"
        },
        "id": "jWp8kGa4_n9I",
        "outputId": "3f3e8800-09b7-4043-a875-6cc4a12f0b06"
      },
      "execution_count": null,
      "outputs": [
        {
          "output_type": "stream",
          "name": "stdout",
          "text": [
            "Enter a number: 2\n",
            "<class 'float'>\n",
            "Enter the first side: 3\n",
            "Enter the second side: 4\n",
            "\n",
            "The hypotenuse is: 5.0\n"
          ]
        }
      ]
    },
    {
      "cell_type": "markdown",
      "source": [
        "**Lists 1/2**"
      ],
      "metadata": {
        "id": "E7hfRTzWBTw8"
      }
    },
    {
      "cell_type": "markdown",
      "source": [
        "In lists each item will be seprated by a coma and we can make and save differnt type of variables such as nubers and str and so on.\n",
        "We can also have a list inside another list."
      ],
      "metadata": {
        "id": "tCov0YiRV8yB"
      }
    },
    {
      "cell_type": "code",
      "source": [
        "alist = [2 ,3,35,5]\n",
        "strlist = ['ali' , 'yousef' , 'taghi']\n",
        "mixlist = [2 , 'ali' ,3, 'yousef']\n",
        "print(alist)\n",
        "print(strlist)\n",
        "print(mixlist)\n",
        "listinlist = [3,2,5,['ali','yousef']]\n",
        "print(listinlist)\n",
        "another_format_list = [3,                 # here we can add comments\n",
        "                       2,\n",
        "                       5,\n",
        "                        ['ali','yousef']\n",
        "                       ]\n",
        "print (another_format_list)\n",
        "\n",
        "###################################################################\n",
        "#  if we wanna search inside a list we can try it with ( in ) instead of searching all the lsit\n",
        "# and also ( not in )\n",
        "print(2 in alist)\n",
        "print(2 in strlist)\n",
        "print('')\n",
        "print(25 not in alist)\n",
        "##################################################################\n",
        "print('')\n",
        "print(\"We can also suming the lists together\")\n",
        "print(alist + strlist)\n",
        "print('')\n",
        "print('we can also use the multiplication')\n",
        "print(alist * 3)"
      ],
      "metadata": {
        "colab": {
          "base_uri": "https://localhost:8080/"
        },
        "id": "qZOVEs8hBYmY",
        "outputId": "d99dcec0-ef0e-4bbe-beb1-ecc1d0ebe95e"
      },
      "execution_count": null,
      "outputs": [
        {
          "output_type": "stream",
          "name": "stdout",
          "text": [
            "[2, 3, 35, 5]\n",
            "['ali', 'yousef', 'taghi']\n",
            "[2, 'ali', 3, 'yousef']\n",
            "[3, 2, 5, ['ali', 'yousef']]\n",
            "[3, 2, 5, ['ali', 'yousef']]\n",
            "True\n",
            "False\n",
            "\n",
            "True\n",
            "\n",
            "We can also suming the lists together\n",
            "[2, 3, 35, 5, 'ali', 'yousef', 'taghi']\n",
            "\n",
            "we can also use the multiplication\n",
            "[2, 3, 35, 5, 2, 3, 35, 5, 2, 3, 35, 5]\n"
          ]
        }
      ]
    },
    {
      "cell_type": "markdown",
      "source": [
        "# **`Method`**"
      ],
      "metadata": {
        "id": "9ZCs7VV3b7sO"
      }
    },
    {
      "cell_type": "code",
      "source": [
        "from pickle import TRUE\n",
        "# we can add some elements by methods to our list\n",
        "alist.append('hi')\n",
        "print(alist)\n",
        "# we can also count elements of a list\n",
        "print(alist.count(100))\n",
        "print('')\n",
        "# we can also insert of an item to a list but th difference between\n",
        "# insert and append is that in insert we can assign the position of\n",
        "# of the new variable\n",
        "alist.insert(2,565656565)\n",
        "print(alist)\n",
        "print('')\n",
        "# we can also remove an item from the list\n",
        "alist.remove(2)\n",
        "print(alist)\n",
        "# Reversing a list\n",
        "alist.sort(reverse=TRUE) # i should remove the strigs from the the list becouse methods doe not know how to manage to favce them\n",
        "\n",
        "print(alist)"
      ],
      "metadata": {
        "colab": {
          "base_uri": "https://localhost:8080/",
          "height": 317
        },
        "id": "bobAAzC6eAin",
        "outputId": "46bb3456-ca8c-42c0-a168-a9db19b1136f"
      },
      "execution_count": null,
      "outputs": [
        {
          "output_type": "stream",
          "name": "stdout",
          "text": [
            "[3, 565656565, 565656565, 565656565, 5, 35, 100, 100, 200, 200, 200, 'hi', 'hi', 'hi', 'hi', 'hi', 'hi']\n",
            "2\n",
            "\n",
            "[3, 565656565, 565656565, 565656565, 565656565, 5, 35, 100, 100, 200, 200, 200, 'hi', 'hi', 'hi', 'hi', 'hi', 'hi']\n",
            "\n",
            "[3, 565656565, 565656565, 565656565, 565656565, 5, 35, 100, 100, 200, 200, 200, 'hi', 'hi', 'hi', 'hi', 'hi', 'hi']\n"
          ]
        },
        {
          "output_type": "error",
          "ename": "TypeError",
          "evalue": "'bytes' object cannot be interpreted as an integer",
          "traceback": [
            "\u001b[0;31m---------------------------------------------------------------------------\u001b[0m",
            "\u001b[0;31mTypeError\u001b[0m                                 Traceback (most recent call last)",
            "\u001b[0;32m<ipython-input-22-e51995a11003>\u001b[0m in \u001b[0;36m<cell line: 18>\u001b[0;34m()\u001b[0m\n\u001b[1;32m     16\u001b[0m \u001b[0mprint\u001b[0m\u001b[0;34m(\u001b[0m\u001b[0malist\u001b[0m\u001b[0;34m)\u001b[0m\u001b[0;34m\u001b[0m\u001b[0;34m\u001b[0m\u001b[0m\n\u001b[1;32m     17\u001b[0m \u001b[0;31m# Reversing a list\u001b[0m\u001b[0;34m\u001b[0m\u001b[0;34m\u001b[0m\u001b[0m\n\u001b[0;32m---> 18\u001b[0;31m \u001b[0malist\u001b[0m\u001b[0;34m.\u001b[0m\u001b[0msort\u001b[0m\u001b[0;34m(\u001b[0m\u001b[0mreverse\u001b[0m\u001b[0;34m=\u001b[0m\u001b[0mTRUE\u001b[0m\u001b[0;34m)\u001b[0m\u001b[0;34m\u001b[0m\u001b[0;34m\u001b[0m\u001b[0m\n\u001b[0m\u001b[1;32m     19\u001b[0m \u001b[0mprint\u001b[0m\u001b[0;34m(\u001b[0m\u001b[0malist\u001b[0m\u001b[0;34m)\u001b[0m\u001b[0;34m\u001b[0m\u001b[0;34m\u001b[0m\u001b[0m\n",
            "\u001b[0;31mTypeError\u001b[0m: 'bytes' object cannot be interpreted as an integer"
          ]
        }
      ]
    },
    {
      "cell_type": "markdown",
      "source": [
        "## ***Tuple***"
      ],
      "metadata": {
        "id": "rSoZAKSWhkvF"
      }
    },
    {
      "cell_type": "markdown",
      "source": [
        "a tuple is like a list but we will use () instead of []."
      ],
      "metadata": {
        "id": "g8kC3PiOht4c"
      }
    },
    {
      "cell_type": "code",
      "source": [
        "atuple = (2,3,4,5,'ali')\n",
        "print(atuple)\n",
        "# eve if without using the ( ) also they work\n",
        "atuple = 2,3,4,5,'ali'\n",
        "print(atuple)\n",
        "# we can use the integer multiplication\n",
        "print(atuple * 3)\n",
        "print('')\n",
        "print('')\n",
        "#\n",
        "# list is Mutable\n",
        "# tuple is not Mutable\n",
        "# Mutable means we can change one variable when we defined it\n",
        "print(alist)\n",
        "alist[2] = 100\n",
        "print(alist)\n",
        "# now lets see the tuples\n",
        "print(atuple)\n",
        "atuple[2] = 100\n",
        "print(atuple) # for sure there will be an error so it is NoN-mutable\n"
      ],
      "metadata": {
        "colab": {
          "base_uri": "https://localhost:8080/",
          "height": 352
        },
        "id": "WhyXosG5hpR3",
        "outputId": "78d3c6dc-e114-4eed-f9ef-34f8c5f3f57a"
      },
      "execution_count": null,
      "outputs": [
        {
          "output_type": "stream",
          "name": "stdout",
          "text": [
            "(2, 3, 4, 5, 'ali')\n",
            "(2, 3, 4, 5, 'ali')\n",
            "(2, 3, 4, 5, 'ali', 2, 3, 4, 5, 'ali', 2, 3, 4, 5, 'ali')\n",
            "\n",
            "\n",
            "[3, 565656565, 100, 565656565, 565656565, 5, 35, 100, 100, 200, 200, 200, 'hi', 'hi', 'hi', 'hi', 'hi', 'hi']\n",
            "[3, 565656565, 100, 565656565, 565656565, 5, 35, 100, 100, 200, 200, 200, 'hi', 'hi', 'hi', 'hi', 'hi', 'hi']\n",
            "(2, 3, 4, 5, 'ali')\n"
          ]
        },
        {
          "output_type": "error",
          "ename": "TypeError",
          "evalue": "'tuple' object does not support item assignment",
          "traceback": [
            "\u001b[0;31m---------------------------------------------------------------------------\u001b[0m",
            "\u001b[0;31mTypeError\u001b[0m                                 Traceback (most recent call last)",
            "\u001b[0;32m<ipython-input-28-4cc5ab8fe654>\u001b[0m in \u001b[0;36m<cell line: 19>\u001b[0;34m()\u001b[0m\n\u001b[1;32m     17\u001b[0m \u001b[0;31m# now lets see the tuples\u001b[0m\u001b[0;34m\u001b[0m\u001b[0;34m\u001b[0m\u001b[0m\n\u001b[1;32m     18\u001b[0m \u001b[0mprint\u001b[0m\u001b[0;34m(\u001b[0m\u001b[0matuple\u001b[0m\u001b[0;34m)\u001b[0m\u001b[0;34m\u001b[0m\u001b[0;34m\u001b[0m\u001b[0m\n\u001b[0;32m---> 19\u001b[0;31m \u001b[0matuple\u001b[0m\u001b[0;34m[\u001b[0m\u001b[0;36m2\u001b[0m\u001b[0;34m]\u001b[0m \u001b[0;34m=\u001b[0m \u001b[0;36m100\u001b[0m\u001b[0;34m\u001b[0m\u001b[0;34m\u001b[0m\u001b[0m\n\u001b[0m\u001b[1;32m     20\u001b[0m \u001b[0mprint\u001b[0m\u001b[0;34m(\u001b[0m\u001b[0matuple\u001b[0m\u001b[0;34m)\u001b[0m\u001b[0;34m\u001b[0m\u001b[0;34m\u001b[0m\u001b[0m\n",
            "\u001b[0;31mTypeError\u001b[0m: 'tuple' object does not support item assignment"
          ]
        }
      ]
    },
    {
      "cell_type": "markdown",
      "source": [
        "## ***Booleans***"
      ],
      "metadata": {
        "id": "UbUqFdC3jj40"
      }
    },
    {
      "cell_type": "markdown",
      "source": [
        "it has 2 simple possible values\n",
        "**True and False**"
      ],
      "metadata": {
        "id": "9qyjEi2F6Wh8"
      }
    },
    {
      "cell_type": "code",
      "source": [
        "t = True    # notice that it should be capital\n",
        "f = False\n",
        "print(t)\n",
        "print(f)\n",
        "print(type(t))\n",
        "%whos"
      ],
      "metadata": {
        "colab": {
          "base_uri": "https://localhost:8080/"
        },
        "id": "XfPjmCfG6v1Q",
        "outputId": "98a9dc36-4609-4888-ee7d-2b88de33b303"
      },
      "execution_count": null,
      "outputs": [
        {
          "output_type": "stream",
          "name": "stdout",
          "text": [
            "True\n",
            "False\n",
            "<class 'bool'>\n",
            "Variable     Type         Data/Info\n",
            "-----------------------------------\n",
            "X            RegexFlag    re.VERBOSE\n",
            "f            bool         False\n",
            "firstname    str          Yousef\n",
            "mul          str          YousefYousefYousef\n",
            "secondname   str          alipour\n",
            "t            bool         True\n",
            "var1         str          test\n",
            "varb         int          65\n",
            "x            int          7\n",
            "y            int          3\n"
          ]
        }
      ]
    },
    {
      "cell_type": "code",
      "source": [
        "# still booleans\n",
        "# conjuctive comparison\n",
        "re = 10\n",
        "re > 5 and re < 15\n",
        "# or function\n",
        "re > 5 or re < 4\n"
      ],
      "metadata": {
        "colab": {
          "base_uri": "https://localhost:8080/"
        },
        "id": "RnLBZCsF9Eze",
        "outputId": "c4552f53-5f97-48d5-8830-37bc025047da"
      },
      "execution_count": null,
      "outputs": [
        {
          "output_type": "execute_result",
          "data": {
            "text/plain": [
              "True"
            ]
          },
          "metadata": {},
          "execution_count": 2
        }
      ]
    },
    {
      "cell_type": "code",
      "source": [
        "# Still booleans\n",
        "# Another possible way to create booleans is using the comprisons\n",
        "print(3 == 3)     # true\n",
        "print(3 == 4)     # false\n",
        "print(3 != 4)     # true\n",
        "print(3 > 4)      # false\n",
        "print(3 < 4)      # true\n",
        "print(3 <= 4)     # true\n",
        "print(3 >= 4)     # false\n",
        "print(3 == 3.0)   # true\n",
        "test = 3 == 3.0\n",
        "print('test = 3 == 3.0')\n",
        "print(test)"
      ],
      "metadata": {
        "colab": {
          "base_uri": "https://localhost:8080/"
        },
        "id": "n4b7A3E-7Izv",
        "outputId": "19610d5f-fb91-4f10-c99a-00cebf329acd"
      },
      "execution_count": null,
      "outputs": [
        {
          "output_type": "stream",
          "name": "stdout",
          "text": [
            "True\n",
            "False\n",
            "True\n",
            "False\n",
            "True\n",
            "True\n",
            "False\n",
            "True\n",
            "test = 3 == 3.0\n",
            "True\n"
          ]
        }
      ]
    },
    {
      "cell_type": "markdown",
      "source": [
        "Remember that in Booleans, all the values can go thetough the boolean Function\n",
        "and the return value will be True, the only value that returns False is 0.\n",
        "And in the case of strings i should say that they will be true , and the only way to get false is empty cotation."
      ],
      "metadata": {
        "id": "9VyjHWKI6DYC"
      }
    },
    {
      "cell_type": "code",
      "source": [
        "print(bool(1))\n",
        "print(bool(0))\n",
        "print(bool(2))\n",
        "print(bool(-1))\n",
        "print(bool('ali'))\n",
        "print(bool(''))"
      ],
      "metadata": {
        "colab": {
          "base_uri": "https://localhost:8080/"
        },
        "id": "HOE9bTFM6YFY",
        "outputId": "602ee0a1-2f4f-4cca-dfc7-9ba43ffce780"
      },
      "execution_count": null,
      "outputs": [
        {
          "output_type": "stream",
          "name": "stdout",
          "text": [
            "True\n",
            "False\n",
            "True\n",
            "True\n",
            "True\n",
            "False\n"
          ]
        }
      ]
    },
    {
      "cell_type": "code",
      "source": [
        "print('Enter 3 numbers: ')\n",
        "a = float(input(' a = '))\n",
        "b = float(input(' b = '))\n",
        "c = float(input(' c = '))\n",
        "test = (a**2 + b**2 == c**2)\n",
        "print('your answer is = ' + str(test) +'  !!!')"
      ],
      "metadata": {
        "colab": {
          "base_uri": "https://localhost:8080/"
        },
        "id": "BtIPGDw77Cs8",
        "outputId": "672cb439-eecf-4a29-cb47-764a045d420e"
      },
      "execution_count": null,
      "outputs": [
        {
          "output_type": "stream",
          "name": "stdout",
          "text": [
            "Enter 3 numbers: \n",
            " a = 3\n",
            " b = 4\n",
            " c = 5\n",
            "your answer is = True  !!!\n"
          ]
        }
      ]
    },
    {
      "cell_type": "markdown",
      "source": [
        "## ***Dictionaries***\n",
        "In dictionaries we have ( key/value ----> pairs  )\n",
        "we cannot have values without any keys and we cannot have keys without any values\n",
        "\n",
        "Dictionaries are mutable\n"
      ],
      "metadata": {
        "id": "blxBlJzWSfEK"
      }
    },
    {
      "cell_type": "code",
      "source": [
        "D = dict()\n",
        "D # is gonna give a empty dictionary\n",
        "\n",
        "# [] lists\n",
        "# () tuples\n",
        "# {} Dictionaries\n"
      ],
      "metadata": {
        "colab": {
          "base_uri": "https://localhost:8080/"
        },
        "id": "ItuTW_GlSj18",
        "outputId": "1f4c1976-e774-4d74-8682-fd8daae10614"
      },
      "execution_count": null,
      "outputs": [
        {
          "output_type": "execute_result",
          "data": {
            "text/plain": [
              "{}"
            ]
          },
          "metadata": {},
          "execution_count": 8
        }
      ]
    },
    {
      "cell_type": "code",
      "source": [
        "D['name'] = 'yousef'\n",
        "D['age range'] = [20,50]\n",
        "D['gender'] = 'male'\n",
        "D\n",
        "# thta was an empty dictionary and we add some pairs to that"
      ],
      "metadata": {
        "colab": {
          "base_uri": "https://localhost:8080/"
        },
        "id": "9ISMCQkPQrdC",
        "outputId": "fa6b0850-221c-4440-dc1c-d609abeff244"
      },
      "execution_count": null,
      "outputs": [
        {
          "output_type": "execute_result",
          "data": {
            "text/plain": [
              "{'name': 'yousef', 'age range': [20, 50], 'gender': 'male'}"
            ]
          },
          "metadata": {},
          "execution_count": 10
        }
      ]
    },
    {
      "cell_type": "code",
      "source": [
        "# here we are gonna create a new dictionaries with some pairs and not initializing as an empty dictionary\n",
        "E = {'name': 'yousef', 'age range': [20, 50], 'gender': 'male'}\n",
        "E"
      ],
      "metadata": {
        "colab": {
          "base_uri": "https://localhost:8080/"
        },
        "id": "fz4bO_vMRs69",
        "outputId": "5c85812e-d2b3-42c7-9b2d-264fe948a323"
      },
      "execution_count": null,
      "outputs": [
        {
          "output_type": "execute_result",
          "data": {
            "text/plain": [
              "{'name': 'yousef', 'age range': [20, 50], 'gender': 'male'}"
            ]
          },
          "metadata": {},
          "execution_count": 11
        }
      ]
    },
    {
      "cell_type": "code",
      "source": [
        "# we could achive the keys of a dictionary if we do not know all\n",
        "keyss = E.keys()\n",
        "# chcking with ( in )\n",
        "check_keys = 'name' in E.keys() # it will be working only for keys and working for the values in the key\n",
        "catch_everything = E.items() # Here it is gonna send back the collection of tuples\n",
        "# printing the results\n",
        "print(keyss)\n",
        "print(check_keys)\n",
        "check_vales = E.values()\n",
        "print(check_vales)\n",
        "print(catch_everything)\n",
        "\n"
      ],
      "metadata": {
        "colab": {
          "base_uri": "https://localhost:8080/"
        },
        "id": "CG8bnwX-SbwR",
        "outputId": "fd785652-26b3-4e93-e147-c83704989cb8"
      },
      "execution_count": null,
      "outputs": [
        {
          "output_type": "stream",
          "name": "stdout",
          "text": [
            "dict_keys(['name', 'age range', 'gender'])\n",
            "True\n",
            "dict_values(['yousef', [20, 50], 'male'])\n",
            "dict_items([('name', 'yousef'), ('age range', [20, 50]), ('gender', 'male')])\n"
          ]
        }
      ]
    },
    {
      "cell_type": "code",
      "source": [
        "# dictionaryy exersize\n",
        "# 1) input 2 numbers from the user\n",
        "# 2) create a dictionary with 3 keys : 'first_num' , 'second_num' , 'prodoct'\n",
        "excersize = dict()\n",
        "excersize['first_num']  = input()\n",
        "excersize['second_num'] = input()\n",
        "excersize['prodoct']    = float(excersize['first_num']) * float(excersize['second_num'])\n",
        "\n",
        "excersize.items()\n",
        "\n"
      ],
      "metadata": {
        "colab": {
          "base_uri": "https://localhost:8080/"
        },
        "id": "IbBGP_xDUlSm",
        "outputId": "0de3c0c8-f805-4222-dedd-ef5facba3a91"
      },
      "execution_count": null,
      "outputs": [
        {
          "name": "stdout",
          "output_type": "stream",
          "text": [
            "5\n",
            "6\n"
          ]
        },
        {
          "output_type": "execute_result",
          "data": {
            "text/plain": [
              "dict_items([('first_num', '5'), ('second_num', '6'), ('prodoct', 30.0)])"
            ]
          },
          "metadata": {},
          "execution_count": 17
        }
      ]
    },
    {
      "cell_type": "markdown",
      "source": [
        "***Indexing***\n",
        "\n",
        "It is what that allow us to access some particular elements of a list or tuple or any data type .\n",
        "in general ordered items not just list.\n"
      ],
      "metadata": {
        "id": "GLMlL86e3i9u"
      }
    },
    {
      "cell_type": "code",
      "source": [
        "alist = [2,3,4,'Ali',5,6]\n",
        "\n",
        "# index ofalsit = [0,1,2,3,4,5]\n",
        "# alist[index_number], It starts from zero\n",
        "# this feature is gonna work also for tuples\n",
        "# index also should be also integer\n",
        "\n",
        "b = alist[3]\n",
        "print('Length of the list : ',len(alist) ,'the 6th element is :', alist[(len(alist) - 1)])\n",
        "\n",
        "# or usinf the -1\n",
        "print(alist[-1])\n",
        "print(alist[-2])\n",
        "\n",
        "# we can have lists or dictionaries inside another list\n",
        "listlist = [4,'hi',[5,4,3] , 'yo' , {'Squirrel' : 'cute' , 'Pinguin' : 'Yummy'}];\n",
        "# to access the element of another list in this list we can go like this [][]\n",
        "listlist[2][2 ]\n",
        "\n",
        "# exercise\n",
        "listlist[4]['Pinguin']\n",
        "D = listlist[4]\n",
        "D['Pinguin']"
      ],
      "metadata": {
        "colab": {
          "base_uri": "https://localhost:8080/",
          "height": 90
        },
        "id": "XCW1rkhf8nzV",
        "outputId": "62d9179b-d862-4134-be8d-16d6a64156de"
      },
      "execution_count": null,
      "outputs": [
        {
          "output_type": "stream",
          "name": "stdout",
          "text": [
            "Length of the list :  6 the 6th element is : 6\n",
            "6\n",
            "5\n"
          ]
        },
        {
          "output_type": "execute_result",
          "data": {
            "text/plain": [
              "'Yummy'"
            ],
            "application/vnd.google.colaboratory.intrinsic+json": {
              "type": "string"
            }
          },
          "metadata": {},
          "execution_count": 12
        }
      ]
    },
    {
      "cell_type": "markdown",
      "source": [
        "## `Slicing`\n",
        "it is about a precedure on list, touples and numpy array and matrices that allow us to allow you to access Multiple elements at the same time"
      ],
      "metadata": {
        "id": "TTSHdQ2O3n2J"
      }
    },
    {
      "cell_type": "code",
      "source": [
        "# Range is gonna create a set of integers , starting from the first number up to the last number but excluding the last number\n",
        "range_list = list(range(5,11)) # this set is gonna be from 5 to 10\n",
        "print('range_list = ',range_list)\n",
        "# in slicing we have the lower bound the upper bound\n",
        "print('sliced list is equal : ',range_list[0:3]) # upper bound is exclusive\n",
        "\n",
        "print('sliced list is equal : ',range_list[:3]) # from 0 to 3\n",
        "\n",
        "print('sliced list is equal : ',range_list[2:3]) # from 2 to 3\n",
        "\n",
        "print('sliced list is equal : ',range_list[3:]) # from 3 to the end\n",
        "\n",
        "# now we wanna have every other elements\n",
        "print('sliced list is equal : ',range_list[::2])\n",
        "\n",
        "# now every other element but starting from first indice\n",
        "print('sliced list is equal : ',range_list[1::2])\n",
        "\n",
        "# how the python is gonna behave is like this\n",
        "#          list[start:stop:skip]\n",
        "start = 0 # start from this indice\n",
        "stop  = 2 # stop in this indice\n",
        "skip  = 2 # skip the first but consider the second\n",
        "print('sliced list is equal : ',range_list[start:stop:skip])\n",
        "\n",
        "# now we are gonna reverse a list\n",
        "print('reversed list is equal : ',range_list[::-1])\n"
      ],
      "metadata": {
        "id": "tlMBby6i2TYx",
        "colab": {
          "base_uri": "https://localhost:8080/"
        },
        "outputId": "a16f2d04-77fb-4d8e-bfa1-19a5bd98c263"
      },
      "execution_count": null,
      "outputs": [
        {
          "output_type": "stream",
          "name": "stdout",
          "text": [
            "range_list =  [5, 6, 7, 8, 9, 10]\n",
            "sliced list is equal :  [5, 6, 7]\n",
            "sliced list is equal :  [5, 6, 7]\n",
            "sliced list is equal :  [7]\n",
            "sliced list is equal :  [8, 9, 10]\n",
            "sliced list is equal :  [5, 7, 9]\n",
            "sliced list is equal :  [6, 8, 10]\n",
            "sliced list is equal :  [5]\n",
            "reversed list is equal :  [10, 9, 8, 7, 6, 5]\n"
          ]
        },
        {
          "output_type": "execute_result",
          "data": {
            "text/plain": [
              "0"
            ]
          },
          "metadata": {},
          "execution_count": 30
        }
      ]
    },
    {
      "cell_type": "code",
      "source": [
        "# Exercize\n",
        "text = '4787049433 si Dajjas eman'\n",
        "print(text[::-1])\n",
        "exercize = list(text)\n",
        "print(exercize[::-1])\n",
        "start = -1 # start from this indice\n",
        "stop  = 13 # stop in this indice\n",
        "skip  = -1 # skip the first but consider the second\n",
        "#print('sliced list is equal : ',text[start:stop:skip])\n",
        "print(text[start:stop:skip])\n",
        "the_list =list(range(2,20))\n",
        "print(the_list)\n",
        " # if we have something like this [  [2,3,5]  ] so we need to use the list comprehension\n"
      ],
      "metadata": {
        "colab": {
          "base_uri": "https://localhost:8080/"
        },
        "id": "OZ0G_3jB99e0",
        "outputId": "a9a77730-c818-4612-e1cc-43412580f610"
      },
      "execution_count": null,
      "outputs": [
        {
          "output_type": "stream",
          "name": "stdout",
          "text": [
            "name sajjaD is 3349407874\n",
            "['n', 'a', 'm', 'e', ' ', 's', 'a', 'j', 'j', 'a', 'D', ' ', 'i', 's', ' ', '3', '3', '4', '9', '4', '0', '7', '8', '7', '4']\n",
            "name sajjaD\n",
            "[2, 3, 4, 5, 6, 7, 8, 9, 10, 11, 12, 13, 14, 15, 16, 17, 18, 19]\n"
          ]
        }
      ]
    },
    {
      "cell_type": "markdown",
      "source": [
        "# ***input and output***"
      ],
      "metadata": {
        "id": "87amUEiTnPZx"
      }
    },
    {
      "cell_type": "markdown",
      "source": [
        "From now on remeber that the functions have pranthesis for getting the input"
      ],
      "metadata": {
        "id": "1g1zrO-7ouDB"
      }
    },
    {
      "cell_type": "code",
      "source": [
        "# Sum function\n",
        "VAR = [10,20,30] # it will be working on the floats and integers\n",
        "print('Output = ',sum(VAR) , 'IT WILL BE THE SUM OF THE LIST')\n",
        "\n",
        "# it doesnt work on the strings\n",
        "#VAR_str = [10,20,30,'ali']\n",
        "#print('SUM = ',sum(VAR_str) , 'IT WILL BETHE SUM OF THE LIST')\n",
        "\n",
        "# it doesn't work on the list in the list\n",
        "#VAR_in_list = [10,20,30,[2,3,2]]\n",
        "#print('SUM = ',sum(VAR_in_list) , 'IT WILL BETHE SUM OF THE LIST')\n"
      ],
      "metadata": {
        "colab": {
          "base_uri": "https://localhost:8080/"
        },
        "id": "gbMRHfEmmr5p",
        "outputId": "c74152ec-fc2b-4d06-91d6-1e81b7920f5f"
      },
      "execution_count": null,
      "outputs": [
        {
          "output_type": "stream",
          "name": "stdout",
          "text": [
            "Output =  60 IT WILL BE THE SUM OF THE LIST\n"
          ]
        }
      ]
    },
    {
      "cell_type": "markdown",
      "source": [
        "### **Numpy Library**"
      ],
      "metadata": {
        "id": "Z_I3uvb8XdzR"
      }
    },
    {
      "cell_type": "code",
      "source": [
        "import numpy as np  # Numerical Python\n",
        "#from numpy import .... #it means i do not need all thsi library and i only need this specific funtion\n",
        "\n",
        "numbers = [1,3,2,4,5]\n",
        "np.mean(numbers)\n",
        "\n",
        "# linespace is gonna give a linearly spaced numbers from a to b and how many of them\n",
        "line_space = np.linspace(0,100,10)\n",
        "print(line_space)\n",
        "print(type(line_space)) # nd is for n dimensional\n",
        "# we can also change the type of the variable in numpy library\n",
        "numbers_np = np.array(numbers)\n",
        "print('')\n",
        "print(type(numbers))\n",
        "print('')\n",
        "print(numbers_np)\n",
        "print(type(numbers_np))\n",
        "numbers_np.mean()\n",
        "print(numbers_np.mean()) # sum of all elements divided by number of elements\n",
        "print(numbers_np.max())\n",
        "print(numbers_np.min())\n",
        "print(numbers_np.std()) # compute standard deviation\n",
        "print(numbers_np.var()) # compute the vaiance"
      ],
      "metadata": {
        "id": "W8fij8azBhad",
        "colab": {
          "base_uri": "https://localhost:8080/"
        },
        "outputId": "0b00ab2c-05da-4482-86c1-612374b0fa6c"
      },
      "execution_count": null,
      "outputs": [
        {
          "output_type": "stream",
          "name": "stdout",
          "text": [
            "[  0.          11.11111111  22.22222222  33.33333333  44.44444444\n",
            "  55.55555556  66.66666667  77.77777778  88.88888889 100.        ]\n",
            "<class 'numpy.ndarray'>\n",
            "\n",
            "<class 'list'>\n",
            "\n",
            "[1 3 2 4 5]\n",
            "<class 'numpy.ndarray'>\n",
            "3.0\n",
            "5\n",
            "1\n",
            "1.4142135623730951\n",
            "2.0\n"
          ]
        }
      ]
    },
    {
      "cell_type": "code",
      "source": [
        "# in place operations\n",
        "# out-of-place / not in-place operations\n"
      ],
      "metadata": {
        "id": "qp-KIfqSbTFP"
      },
      "execution_count": null,
      "outputs": []
    },
    {
      "cell_type": "markdown",
      "source": [
        "### ***Pandas***\n",
        "it will give an access to the packages that are specificly for the data sets as observations by features\n",
        "so any kind of data that could be represented by spreadsheets.\n",
        "so data will be put in a 2 dimensional matrix.\n",
        "where the rows would be observations and columns would be features"
      ],
      "metadata": {
        "id": "wwit1CQbxKIq"
      }
    },
    {
      "cell_type": "code",
      "source": [
        "import pandas as pd\n",
        "import numpy as np\n",
        "# create random data\n",
        "a = np.random.randn()   # here it alone will return just a number\n",
        "c = np.random.randn(5)  # if there is a value it will return as many as random values as the number is\n",
        "print(a)\n",
        "print(\" n random numbers are : \",c)\n",
        "print(type(c))\n",
        "d = np.random.randn(5,4) # it will give an n * n matrix of random numbers\n",
        "print(d)\n",
        "print(type(d))\n",
        "print('')\n",
        "var1 = np.random.randn(100) * 5 + 20\n",
        "#print(var1)\n",
        "var2 = np.random.randn(100) > 0 # it will be true or false\n",
        "#print(var2)\n",
        "lables = ['tep (c) ','ice cream '];\n",
        "\n",
        "# put them toghether in a dictionary\n",
        "D = {lables[0] : var1 , lables[1] : var2}\n",
        "print(D)\n",
        "\n",
        "print('')\n",
        "# import the dictionary to a pandas dataframe\n",
        "df = pd.DataFrame(data = D) # DataFrame is fucntion of the panda data frame library\n",
        "print(type(df))\n",
        "print(df)\n",
        "\n"
      ],
      "metadata": {
        "colab": {
          "base_uri": "https://localhost:8080/"
        },
        "id": "acZlB8inxIib",
        "outputId": "01c69a54-671d-49c2-dd07-a4f8cef40ffc"
      },
      "execution_count": null,
      "outputs": [
        {
          "output_type": "stream",
          "name": "stdout",
          "text": [
            "-0.201258525096716\n",
            " n random numbers are :  [ 0.40780697 -2.01980222  1.07504402 -0.34585501 -1.55316433]\n",
            "<class 'numpy.ndarray'>\n",
            "[[-1.05245525  1.99845204 -0.35558801 -0.11811414]\n",
            " [-1.80957194  0.39971736  0.12043914 -1.28397754]\n",
            " [ 0.26287459 -1.01454974  1.03037912 -0.2726829 ]\n",
            " [ 0.96116942  1.41520852  0.50943867  0.01154428]\n",
            " [ 1.17352542  0.36862553 -1.48807296 -1.10373192]]\n",
            "<class 'numpy.ndarray'>\n",
            "\n",
            "{'tep (c) ': array([22.203654  , 23.53769268, 30.20559822, 23.20218428, 25.51156371,\n",
            "       10.66534821, 16.89226913, 32.63424126, 24.73764463, 18.85398743,\n",
            "       10.03132742, 21.17155536, 25.04207592, 14.79768836, 23.80961881,\n",
            "       24.89005496, 24.99432658, 13.87459843, 22.5322287 , 17.15907721,\n",
            "       12.35294312, 10.05037067, 25.21454648, 13.04959918, 13.44107679,\n",
            "       27.3153009 , 20.42976488, 13.14403705, 17.34342972, 19.96126891,\n",
            "       20.1649017 , 22.89127815, 14.72249485, 21.32506013, 16.12714279,\n",
            "       31.21409185, 24.68298313, 18.02960394, 20.84101793, 21.08858194,\n",
            "       26.86502959,  8.53510528, 14.70479164, 19.06064774, 25.93641805,\n",
            "       31.85722934, 25.8252687 , 16.75789405, 26.24877265, 13.86392307,\n",
            "       21.72640414, 16.54292624, 17.67672647, 16.29673571, 22.2680727 ,\n",
            "       23.61340025, 15.8834191 , 20.28134856, 23.94423658, 23.91612396,\n",
            "       19.57212362, 21.39936194, 15.16092363, 12.73916731, 19.79566061,\n",
            "       19.32054612, 16.79850685, 17.66693085, 23.52801882, 21.28941755,\n",
            "       22.43317636, 24.63435505, 18.49164935, 20.96148717, 20.20533711,\n",
            "       22.34709743, 29.64386513, 20.81606207, 15.8412809 , 23.97028698,\n",
            "       16.56946752, 24.07305749, 17.53603592, 21.59378576, 19.9382669 ,\n",
            "       16.56114923, 10.91476545, 19.54016357, 26.81386636, 19.12433109,\n",
            "       16.67240782, 22.58274929, 15.12919107, 26.26913742, 10.09353105,\n",
            "       31.01045404, 25.57672652, 15.02352778, 17.534113  , 15.47742263]), 'ice cream ': array([ True, False, False,  True, False, False, False, False,  True,\n",
            "        True,  True,  True,  True, False, False,  True, False, False,\n",
            "        True,  True,  True,  True,  True, False,  True,  True, False,\n",
            "        True, False, False, False,  True,  True, False, False, False,\n",
            "       False, False,  True,  True, False, False,  True,  True, False,\n",
            "        True, False,  True, False, False, False, False,  True, False,\n",
            "        True,  True, False,  True, False, False, False,  True, False,\n",
            "        True, False,  True,  True,  True, False,  True, False,  True,\n",
            "        True,  True, False, False,  True, False,  True,  True, False,\n",
            "       False, False,  True, False,  True,  True, False,  True, False,\n",
            "       False, False,  True,  True, False, False,  True, False, False,\n",
            "        True])}\n",
            "\n",
            "<class 'pandas.core.frame.DataFrame'>\n",
            "     tep (c)   ice cream \n",
            "0   22.203654        True\n",
            "1   23.537693       False\n",
            "2   30.205598       False\n",
            "3   23.202184        True\n",
            "4   25.511564       False\n",
            "..        ...         ...\n",
            "95  31.010454       False\n",
            "96  25.576727        True\n",
            "97  15.023528       False\n",
            "98  17.534113       False\n",
            "99  15.477423        True\n",
            "\n",
            "[100 rows x 2 columns]\n"
          ]
        }
      ]
    },
    {
      "cell_type": "code",
      "source": [
        "#instead of that we can print the headers or the top of this data set\n",
        "print(df.head())\n",
        "print('')\n",
        "# we can count the number of the observations that we have\n",
        "print(df.count())\n",
        "print('')\n",
        "# we can have the average value\n",
        "print(df.mean())"
      ],
      "metadata": {
        "colab": {
          "base_uri": "https://localhost:8080/"
        },
        "id": "m019-uzEzRSg",
        "outputId": "df54610c-26bb-4132-963c-682fbeb84353"
      },
      "execution_count": null,
      "outputs": [
        {
          "output_type": "stream",
          "name": "stdout",
          "text": [
            "    tep (c)   ice cream \n",
            "0  22.203654        True\n",
            "1  23.537693       False\n",
            "2  30.205598       False\n",
            "3  23.202184        True\n",
            "4  25.511564       False\n",
            "\n",
            "tep (c)       100\n",
            "ice cream     100\n",
            "dtype: int64\n",
            "\n",
            "tep (c)       20.165901\n",
            "ice cream      0.480000\n",
            "dtype: float64\n"
          ]
        }
      ]
    },
    {
      "cell_type": "code",
      "source": [
        "# exersize\n",
        "# create a pandas datafram with :\n",
        "# integers goes from 0 to 10, their square, and their log\n",
        "\n",
        "integers = np.array(range(11))\n",
        "print(integers)\n",
        "\n",
        "their_square = integers ** 2\n",
        "print(their_square)\n",
        "\n",
        "their_log = np.log(integers)\n",
        "print(their_log)\n",
        "\n",
        "labales = ['Square' , 'Logarithm'];\n",
        "Dct = {labales[0] : their_square , labales[1] : their_log}\n",
        "print(Dct)\n",
        "df = pd.DataFrame(data = Dct)\n",
        "print(df)\n",
        "print('')\n",
        "print('Head = ',df.head())\n",
        "print('')\n",
        "print('count = ',df.count())\n",
        "print('')\n",
        "print('Mean = ',df.mean())"
      ],
      "metadata": {
        "id": "ZwKSAGTu2J3U",
        "colab": {
          "base_uri": "https://localhost:8080/"
        },
        "outputId": "3655d75f-c490-4e6e-9097-d6a6c0f2d50f"
      },
      "execution_count": null,
      "outputs": [
        {
          "output_type": "stream",
          "name": "stdout",
          "text": [
            "[ 0  1  2  3  4  5  6  7  8  9 10]\n",
            "[  0   1   4   9  16  25  36  49  64  81 100]\n",
            "[      -inf 0.         0.69314718 1.09861229 1.38629436 1.60943791\n",
            " 1.79175947 1.94591015 2.07944154 2.19722458 2.30258509]\n",
            "{'Square': array([  0,   1,   4,   9,  16,  25,  36,  49,  64,  81, 100]), 'Logarithm': array([      -inf, 0.        , 0.69314718, 1.09861229, 1.38629436,\n",
            "       1.60943791, 1.79175947, 1.94591015, 2.07944154, 2.19722458,\n",
            "       2.30258509])}\n",
            "    Square  Logarithm\n",
            "0        0       -inf\n",
            "1        1   0.000000\n",
            "2        4   0.693147\n",
            "3        9   1.098612\n",
            "4       16   1.386294\n",
            "5       25   1.609438\n",
            "6       36   1.791759\n",
            "7       49   1.945910\n",
            "8       64   2.079442\n",
            "9       81   2.197225\n",
            "10     100   2.302585\n",
            "\n",
            "Head =     Square  Logarithm\n",
            "0       0       -inf\n",
            "1       1   0.000000\n",
            "2       4   0.693147\n",
            "3       9   1.098612\n",
            "4      16   1.386294\n",
            "\n",
            "count =  Square       11\n",
            "Logarithm    11\n",
            "dtype: int64\n",
            "\n",
            "Mean =  Square       35.0\n",
            "Logarithm    -inf\n",
            "dtype: float64\n"
          ]
        },
        {
          "output_type": "stream",
          "name": "stderr",
          "text": [
            "<ipython-input-17-894efb99ecca>:11: RuntimeWarning: divide by zero encountered in log\n",
            "  their_log = np.log(integers)\n"
          ]
        }
      ]
    }
  ]
}