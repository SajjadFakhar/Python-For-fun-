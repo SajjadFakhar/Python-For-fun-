{
  "nbformat": 4,
  "nbformat_minor": 0,
  "metadata": {
    "colab": {
      "provenance": [],
      "authorship_tag": "ABX9TyMJk2SOcEse2RjVJJ86lUq6",
      "include_colab_link": true
    },
    "kernelspec": {
      "name": "python3",
      "display_name": "Python 3"
    },
    "language_info": {
      "name": "python"
    }
  },
  "cells": [
    {
      "cell_type": "markdown",
      "metadata": {
        "id": "view-in-github",
        "colab_type": "text"
      },
      "source": [
        "<a href=\"https://colab.research.google.com/github/SajjadFakhar/Python-For-fun-/blob/Colab-Codes/Intro_to_Python_2.ipynb\" target=\"_parent\"><img src=\"https://colab.research.google.com/assets/colab-badge.svg\" alt=\"Open In Colab\"/></a>"
      ]
    },
    {
      "cell_type": "markdown",
      "source": [
        "## **Getting help on Functions**"
      ],
      "metadata": {
        "id": "5i6ZLIZOGTMl"
      }
    },
    {
      "cell_type": "code",
      "execution_count": null,
      "metadata": {
        "colab": {
          "base_uri": "https://localhost:8080/"
        },
        "id": "Y3RE4_EVGQDS",
        "outputId": "9b26da5b-d96f-4c4d-ec5a-4df14dc696de"
      },
      "outputs": [
        {
          "output_type": "execute_result",
          "data": {
            "text/plain": [
              "16"
            ]
          },
          "metadata": {},
          "execution_count": 4
        }
      ],
      "source": [
        "# help!\n",
        "# shift tab\n",
        "x = [1,2,3]\n",
        "sum(x,10)"
      ]
    },
    {
      "cell_type": "code",
      "source": [
        "# help with question mark\n",
        "# it will open the help\n",
        "sum?\n",
        "# with 2 question mark it is gonna open the source code of that\n",
        "sum??"
      ],
      "metadata": {
        "id": "uee6YHsBIHy4"
      },
      "execution_count": null,
      "outputs": []
    },
    {
      "cell_type": "code",
      "source": [
        "# using help function directly\n",
        "help(sum)"
      ],
      "metadata": {
        "colab": {
          "base_uri": "https://localhost:8080/"
        },
        "id": "CNNX9rUPIX3l",
        "outputId": "dc49a837-782d-428c-e186-19bb6b74e26b"
      },
      "execution_count": null,
      "outputs": [
        {
          "output_type": "stream",
          "name": "stdout",
          "text": [
            "Help on built-in function sum in module builtins:\n",
            "\n",
            "sum(iterable, /, start=0)\n",
            "    Return the sum of a 'start' value (default: 0) plus an iterable of numbers\n",
            "    \n",
            "    When the iterable is empty, return the start value.\n",
            "    This function is intended specifically for use with numeric values and may\n",
            "    reject non-numeric types.\n",
            "\n"
          ]
        }
      ]
    },
    {
      "cell_type": "markdown",
      "source": [
        "# **In sum of this libraries or functions that we wanna find there will be some examples which could be quite useful**"
      ],
      "metadata": {
        "id": "VTvcl97ZI62D"
      }
    },
    {
      "cell_type": "code",
      "source": [
        "import numpy as np\n",
        "np.linspace?\n"
      ],
      "metadata": {
        "id": "uplhvRD3JEyU"
      },
      "execution_count": null,
      "outputs": []
    },
    {
      "cell_type": "markdown",
      "source": [
        "# **Creating a function**"
      ],
      "metadata": {
        "id": "z_0_2FnlJzXy"
      }
    },
    {
      "cell_type": "code",
      "source": [
        "def NameOftheFunction :\n",
        "  return output1,output2,... #(this type of the output is just a touple and everything is valid for this touple\n"
      ],
      "metadata": {
        "id": "vz12_-LOJ6Us"
      },
      "execution_count": null,
      "outputs": []
    },
    {
      "cell_type": "markdown",
      "source": [
        "# **Lambda function**\n",
        "whenever we have a very short function that is a line of code\n",
        "so we use this kind of function"
      ],
      "metadata": {
        "id": "MxD2R2etNN8b"
      }
    },
    {
      "cell_type": "code",
      "source": [
        "funname = lambda x : x**2 #funname is the name of the function lambda is the reserve keyboard, x is the input and after the colon is the operation that we need"
      ],
      "metadata": {
        "id": "OZtYe1PVNjmR"
      },
      "execution_count": null,
      "outputs": []
    },
    {
      "cell_type": "code",
      "source": [
        "funname(3)"
      ],
      "metadata": {
        "colab": {
          "base_uri": "https://localhost:8080/"
        },
        "id": "o3dqeZT6OgsP",
        "outputId": "bec997a3-ff9b-43da-d059-6ce41c0a1944"
      },
      "execution_count": null,
      "outputs": [
        {
          "output_type": "execute_result",
          "data": {
            "text/plain": [
              "9"
            ]
          },
          "metadata": {},
          "execution_count": 17
        }
      ]
    },
    {
      "cell_type": "code",
      "source": [
        "# exersize create a function that computes a factorial\n",
        "# compare the result of your function with the math.factorial()\n",
        "import numpy as np\n",
        "import math\n",
        "def factoriel(x):\n",
        "  b = list(np.array(range(x+1))) # range(1,x+1)\n",
        "  c = b[1:x+1]\n",
        "  product = np.prod(c)\n",
        "  math.factorial(x)\n",
        "  comparison = product == math.factorial(x)\n",
        "  return product,comparison\n",
        "  # done by me"
      ],
      "metadata": {
        "id": "llocaj-YOzSe"
      },
      "execution_count": null,
      "outputs": []
    },
    {
      "cell_type": "code",
      "source": [
        "factoriel(7)"
      ],
      "metadata": {
        "colab": {
          "base_uri": "https://localhost:8080/"
        },
        "id": "v6SN4wZhPFK1",
        "outputId": "5c132b78-ce2c-4b51-d9f1-10545842180d"
      },
      "execution_count": null,
      "outputs": [
        {
          "output_type": "execute_result",
          "data": {
            "text/plain": [
              "(5040, True)"
            ]
          },
          "metadata": {},
          "execution_count": 71
        }
      ]
    },
    {
      "cell_type": "code",
      "source": [
        "# the same exersize\n",
        "import numpy as np\n",
        "import math\n",
        "def factoriel(x):\n",
        "  math.factorial(x)\n",
        "  comparison = np.prod(np.arange(1,x+1)) == math.factorial(x) # np.arange is a gonna give an array by using the range\n",
        "  return np.prod(np.arange(1,x+1)),comparison\n",
        "  # done by the teacher"
      ],
      "metadata": {
        "id": "iDJx-pU6VSry"
      },
      "execution_count": null,
      "outputs": []
    },
    {
      "cell_type": "code",
      "source": [
        "factoriel(4)"
      ],
      "metadata": {
        "colab": {
          "base_uri": "https://localhost:8080/"
        },
        "id": "RXd57URAv9Sz",
        "outputId": "59689e39-ffe9-4ccd-f42a-9fd89df26ebc"
      },
      "execution_count": null,
      "outputs": [
        {
          "output_type": "execute_result",
          "data": {
            "text/plain": [
              "(24, True)"
            ]
          },
          "metadata": {},
          "execution_count": 4
        }
      ]
    },
    {
      "cell_type": "markdown",
      "source": [
        "# **Global and Local variable scopes**"
      ],
      "metadata": {
        "id": "c6-iHHDkwT_W"
      }
    },
    {
      "cell_type": "code",
      "source": [
        "# Local scope\n",
        "# Global scope\n",
        "\n",
        "# Local is as follows :\n",
        "def funfun():\n",
        "  x= 7\n",
        "  y = 8\n",
        "  print(x)\n",
        "\n",
        "  # as we can see x andy are defined in the funfun() function, so wherever we want to\n",
        "  # call x and why we will face a problem because it is locally available only in this function\n"
      ],
      "metadata": {
        "id": "OJyo_o70xlG7"
      },
      "execution_count": null,
      "outputs": []
    },
    {
      "cell_type": "code",
      "source": [
        "funfun()"
      ],
      "metadata": {
        "colab": {
          "base_uri": "https://localhost:8080/"
        },
        "id": "Sfpq64WkxmZ8",
        "outputId": "09f50fec-5974-4239-cb34-a22bb1724ebe"
      },
      "execution_count": null,
      "outputs": [
        {
          "output_type": "stream",
          "name": "stdout",
          "text": [
            "7\n"
          ]
        }
      ]
    },
    {
      "cell_type": "code",
      "source": [
        "x"
      ],
      "metadata": {
        "colab": {
          "base_uri": "https://localhost:8080/",
          "height": 141
        },
        "id": "auiHivYFxpO4",
        "outputId": "11a566cc-6f18-4150-cb42-c4982d8ce431"
      },
      "execution_count": null,
      "outputs": [
        {
          "output_type": "error",
          "ename": "NameError",
          "evalue": "name 'x' is not defined",
          "traceback": [
            "\u001b[0;31m---------------------------------------------------------------------------\u001b[0m",
            "\u001b[0;31mNameError\u001b[0m                                 Traceback (most recent call last)",
            "\u001b[0;32m<ipython-input-4-199672d09410>\u001b[0m in \u001b[0;36m<cell line: 1>\u001b[0;34m()\u001b[0m\n\u001b[0;32m----> 1\u001b[0;31m \u001b[0mx\u001b[0m\u001b[0;34m\u001b[0m\u001b[0;34m\u001b[0m\u001b[0m\n\u001b[0m",
            "\u001b[0;31mNameError\u001b[0m: name 'x' is not defined"
          ]
        }
      ]
    },
    {
      "cell_type": "markdown",
      "source": [
        "# **Copy and referents of variables**"
      ],
      "metadata": {
        "id": "WG0yW6xnz7Xb"
      }
    },
    {
      "cell_type": "code",
      "source": [
        "a = [4,5]\n",
        "b = a\n",
        "b[0] = 3.1\n",
        "\n",
        "print(a)\n",
        "print(b)\n",
        "# When it is printed as you can see they are the same variables by different names\n",
        "# but to be sure we can use id function and print the location of the variable and see it is the same\n",
        "print(id(a))\n",
        "print(id(b))\n",
        "\n",
        "# so it is observed b is new referent to a instead f being a seprate variable\n",
        "# There is also this possibility to copy the one variable to another and change just the value of new variable but not in the previous one as well and could be simply done by a (:)\n",
        "\n",
        "s = [3,5]\n",
        "t = s[:]\n",
        "t[0] = 10\n",
        "print(s)\n",
        "print(t)\n"
      ],
      "metadata": {
        "id": "vlnDhzk90CxE",
        "colab": {
          "base_uri": "https://localhost:8080/"
        },
        "outputId": "d29cf1cc-0f4e-4030-b4c5-6bb166baf65d"
      },
      "execution_count": null,
      "outputs": [
        {
          "output_type": "stream",
          "name": "stdout",
          "text": [
            "[3.1, 5]\n",
            "[3.1, 5]\n",
            "138008090964352\n",
            "138008090964352\n",
            "[3, 5]\n",
            "[10, 5]\n"
          ]
        }
      ]
    },
    {
      "cell_type": "code",
      "source": [
        "# But when it comes to do this operation(slicing) on the dictionaries it wont be possible\n",
        "# And we should use the Copy library of the python\n",
        "q = {'w':1,'e':2}\n",
        "# r = q[:] it wont be possible\n",
        "import copy\n",
        "r = copy.deepcopy(q) # and here it create 2 seperate values of the q\n",
        "print(id(q))\n",
        "print(id(r))\n"
      ],
      "metadata": {
        "colab": {
          "base_uri": "https://localhost:8080/"
        },
        "id": "X-roO-e1FyXo",
        "outputId": "f1d97f3d-1fe3-427d-f1d4-1ff74f43bb8a"
      },
      "execution_count": null,
      "outputs": [
        {
          "output_type": "stream",
          "name": "stdout",
          "text": [
            "138008091619712\n",
            "138008091608576\n"
          ]
        }
      ]
    },
    {
      "cell_type": "markdown",
      "source": [
        "# **Classes and OOP progamming**"
      ],
      "metadata": {
        "id": "E2TCoDkiI1xe"
      }
    },
    {
      "cell_type": "code",
      "source": [
        "# class : blueprint for creating a set of attributes(variables and parameters) and functions or methods()\n",
        "# Instance: so what we create from a class is an instance\n",
        "# class name_of_the_class(type_of_the_class)\n",
        "class model(object):\n"
      ],
      "metadata": {
        "id": "O7lU3tzFI7lf"
      },
      "execution_count": null,
      "outputs": []
    }
  ]
}